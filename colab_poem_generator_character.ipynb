{
  "nbformat": 4,
  "nbformat_minor": 0,
  "metadata": {
    "colab": {
      "name": "poem_generator_character.ipynb",
      "version": "0.3.2",
      "provenance": [],
      "include_colab_link": true
    },
    "kernelspec": {
      "name": "python3",
      "display_name": "Python 3"
    },
    "accelerator": "TPU"
  },
  "cells": [
    {
      "cell_type": "markdown",
      "metadata": {
        "id": "view-in-github",
        "colab_type": "text"
      },
      "source": [
        "<a href=\"https://colab.research.google.com/github/Aaronsom/poem-generation/blob/master/colab_poem_generator_character.ipynb\" target=\"_parent\"><img src=\"https://colab.research.google.com/assets/colab-badge.svg\" alt=\"Open In Colab\"/></a>"
      ]
    },
    {
      "cell_type": "code",
      "metadata": {
        "id": "MCWMQQ0HGlma",
        "colab_type": "code",
        "outputId": "66610468-b9b4-46a6-b12e-05d159e9f5f0",
        "colab": {
          "base_uri": "https://localhost:8080/",
          "height": 136
        }
      },
      "source": [
        "!git clone https://github.com/Aaronsom/poem-generation\n",
        "%cd poem-generation\n",
        "%mkdir models"
      ],
      "execution_count": 1,
      "outputs": [
        {
          "output_type": "stream",
          "text": [
            "Cloning into 'poem-generation'...\n",
            "remote: Enumerating objects: 78, done.\u001b[K\n",
            "remote: Counting objects: 100% (78/78), done.\u001b[K\n",
            "remote: Compressing objects: 100% (52/52), done.\u001b[K\n",
            "remote: Total 78 (delta 43), reused 58 (delta 24), pack-reused 0\u001b[K\n",
            "Unpacking objects: 100% (78/78), done.\n",
            "/content/poem-generation\n"
          ],
          "name": "stdout"
        }
      ]
    },
    {
      "cell_type": "code",
      "metadata": {
        "id": "ys6g_i8JHxGm",
        "colab_type": "code",
        "colab": {}
      },
      "source": [
        "from tensorflow.keras.callbacks import ModelCheckpoint, CSVLogger\n",
        "import tensorflow.train as optimizer\n",
        "from poem_generator.dataGenerator import TupleDataGenerator\n",
        "import poem_generator.data_prepocessing as dp\n",
        "import poem_generator.embedding as embedding_loader\n",
        "from poem_generator.global_constants import TRAINING_DATA, EMBEDDING_DIMENSION, EMBEDDING_BINARY, MODELS_DICT\n",
        "from poem_generator.transformer import transformer\n",
        "from tensorflow.contrib.tpu import keras_to_tpu_model, TPUDistributionStrategy\n",
        "from tensorflow.contrib.cluster_resolver import TPUClusterResolver\n",
        "from tensorflow.keras import Model\n",
        "import os\n"
      ],
      "execution_count": 0,
      "outputs": []
    },
    {
      "cell_type": "code",
      "metadata": {
        "id": "aMEPivFQe1Xo",
        "colab_type": "code",
        "colab": {}
      },
      "source": [
        ""
      ],
      "execution_count": 0,
      "outputs": []
    },
    {
      "cell_type": "code",
      "metadata": {
        "id": "XeiJLT4hIDup",
        "colab_type": "code",
        "outputId": "28ef578f-07dc-4e21-b825-445bee942558",
        "colab": {
          "base_uri": "https://localhost:8080/",
          "height": 870
        }
      },
      "source": [
        "ns = [25]\n",
        "epochs = 20\n",
        "batch_size = 512\n",
        "validation_split = 0.9\n",
        "\n",
        "poems = dp.characterize_poems(TRAINING_DATA)\n",
        "words = sorted(list(set([token for poem in poems for token in poem])))\n",
        "\n",
        "#Save embedding for generator\n",
        "embedding, dictionary = embedding_loader.get_char_embedding(words, save=True)\n",
        "\n",
        "#model = load_model(MODELS_DICT+\"/5model.hdf5\", custom_objects={\"PositionalEncoding\": PositionalEncoding, \"Attention\": Attention})\n",
        "model = transformer(100, embedding, len(dictionary), True, train_embedding=True, input_sequence_length=25)\n",
        "tpu_model = keras_to_tpu_model(\n",
        "    model,\n",
        "    strategy=TPUDistributionStrategy(\n",
        "        TPUClusterResolver(tpu='grpc://' + os.environ['COLAB_TPU_ADDR'])\n",
        "    )\n",
        ")\n",
        "tpu_model.compile(optimizer=optimizer.AdamOptimizer(),\n",
        "            loss=\"categorical_crossentropy\", metrics=[\"accuracy\"])\n",
        "\n",
        "generator = TupleDataGenerator(poems[:int(validation_split*len(poems))], ns, dictionary, 0.1, batch_size, single=True)\n",
        "validation_generator = TupleDataGenerator(poems[int(validation_split*len(poems)):], ns, dictionary, 0, batch_size, single=True)\n",
        "callbacks = [ModelCheckpoint(MODELS_DICT+\"/char-model.hdf5\", save_best_only=True),\n",
        "           CSVLogger(MODELS_DICT+\"/char-log.csv\", append=True, separator=';')]\n",
        "tpu_model.fit_generator(\n",
        "  generator, epochs=epochs, callbacks=callbacks, validation_data=validation_generator, workers=4)"
      ],
      "execution_count": 0,
      "outputs": [
        {
          "output_type": "stream",
          "text": [
            "WARNING:tensorflow:From /usr/local/lib/python3.6/dist-packages/tensorflow/python/ops/resource_variable_ops.py:435: colocate_with (from tensorflow.python.framework.ops) is deprecated and will be removed in a future version.\n",
            "Instructions for updating:\n",
            "Colocations handled automatically by placer.\n",
            "WARNING:tensorflow:From /usr/local/lib/python3.6/dist-packages/tensorflow/python/keras/layers/core.py:143: calling dropout (from tensorflow.python.ops.nn_ops) with keep_prob is deprecated and will be removed in a future version.\n",
            "Instructions for updating:\n",
            "Please use `rate` instead of `keep_prob`. Rate should be set to `rate = 1 - keep_prob`.\n",
            "INFO:tensorflow:Querying Tensorflow master (grpc://10.83.57.26:8470) for TPU system metadata.\n",
            "INFO:tensorflow:Found TPU system:\n",
            "INFO:tensorflow:*** Num TPU Cores: 8\n",
            "INFO:tensorflow:*** Num TPU Workers: 1\n",
            "INFO:tensorflow:*** Num TPU Cores Per Worker: 8\n",
            "INFO:tensorflow:*** Available Device: _DeviceAttributes(/job:worker/replica:0/task:0/device:CPU:0, CPU, -1, 4434212784193560490)\n",
            "INFO:tensorflow:*** Available Device: _DeviceAttributes(/job:worker/replica:0/task:0/device:XLA_CPU:0, XLA_CPU, 17179869184, 2677026105101301217)\n",
            "INFO:tensorflow:*** Available Device: _DeviceAttributes(/job:worker/replica:0/task:0/device:TPU:0, TPU, 17179869184, 12197027652552576888)\n",
            "INFO:tensorflow:*** Available Device: _DeviceAttributes(/job:worker/replica:0/task:0/device:TPU:1, TPU, 17179869184, 7309149645571292394)\n",
            "INFO:tensorflow:*** Available Device: _DeviceAttributes(/job:worker/replica:0/task:0/device:TPU:2, TPU, 17179869184, 8949123978915078806)\n",
            "INFO:tensorflow:*** Available Device: _DeviceAttributes(/job:worker/replica:0/task:0/device:TPU:3, TPU, 17179869184, 1616477346583911849)\n",
            "INFO:tensorflow:*** Available Device: _DeviceAttributes(/job:worker/replica:0/task:0/device:TPU:4, TPU, 17179869184, 1274838740060936075)\n",
            "INFO:tensorflow:*** Available Device: _DeviceAttributes(/job:worker/replica:0/task:0/device:TPU:5, TPU, 17179869184, 4501321571268175857)\n",
            "INFO:tensorflow:*** Available Device: _DeviceAttributes(/job:worker/replica:0/task:0/device:TPU:6, TPU, 17179869184, 13791140325876523459)\n",
            "INFO:tensorflow:*** Available Device: _DeviceAttributes(/job:worker/replica:0/task:0/device:TPU:7, TPU, 17179869184, 10163213082384423659)\n",
            "INFO:tensorflow:*** Available Device: _DeviceAttributes(/job:worker/replica:0/task:0/device:TPU_SYSTEM:0, TPU_SYSTEM, 17179869184, 15390311299280760547)\n",
            "WARNING:tensorflow:tpu_model (from tensorflow.contrib.tpu.python.tpu.keras_support) is experimental and may change or be removed at any time, and without warning.\n",
            "Training on 117 words with 8208156 [25]-tuples\n",
            "Training on 117 words with 983444 [25]-tuples\n",
            "Epoch 1/20\n",
            "INFO:tensorflow:New input shapes; (re-)compiling: mode=train (# of cores 8), [TensorSpec(shape=(64,), dtype=tf.int32, name='core_id0'), TensorSpec(shape=(64, 25), dtype=tf.float32, name='input_1_10'), TensorSpec(shape=(64, 117), dtype=tf.float32, name='dense_30_target_10')]\n",
            "INFO:tensorflow:Overriding default placeholder.\n",
            "INFO:tensorflow:Remapping placeholder for input_1\n",
            "WARNING:tensorflow:From /usr/local/lib/python3.6/dist-packages/tensorflow/contrib/tpu/python/tpu/keras_support.py:302: to_float (from tensorflow.python.ops.math_ops) is deprecated and will be removed in a future version.\n",
            "Instructions for updating:\n",
            "Use tf.cast instead.\n",
            "WARNING:tensorflow:From /usr/local/lib/python3.6/dist-packages/tensorflow/python/ops/math_ops.py:3066: to_int32 (from tensorflow.python.ops.math_ops) is deprecated and will be removed in a future version.\n",
            "Instructions for updating:\n",
            "Use tf.cast instead.\n",
            "INFO:tensorflow:Started compiling\n",
            "INFO:tensorflow:Finished compiling. Time elapsed: 60.86198449134827 secs\n",
            "INFO:tensorflow:Setting weights on TPU model.\n",
            "16030/16031 [============================>.] - ETA: 0s - loss: 20.0815 - acc: 0.1049INFO:tensorflow:New input shapes; (re-)compiling: mode=eval (# of cores 8), [TensorSpec(shape=(64,), dtype=tf.int32, name='core_id_10'), TensorSpec(shape=(64, 25), dtype=tf.float32, name='input_1_10'), TensorSpec(shape=(64, 117), dtype=tf.float32, name='dense_30_target_10')]\n",
            "INFO:tensorflow:Overriding default placeholder.\n",
            "INFO:tensorflow:Remapping placeholder for input_1\n",
            "INFO:tensorflow:Started compiling\n",
            "INFO:tensorflow:Finished compiling. Time elapsed: 38.68278408050537 secs\n",
            "1920/1920 [==============================] - 127s 66ms/step - loss: 85.3745 - acc: 0.0180\n",
            "INFO:tensorflow:Copying TPU weights to the CPU\n",
            "WARNING:tensorflow:TensorFlow optimizers do not make it possible to access optimizer attributes or optimizer state after instantiation. As a result, we cannot save the optimizer as part of the model save file.You will have to compile your model again after loading it. Prefer using a Keras optimizer instead (see keras.io/optimizers).\n",
            "16031/16031 [==============================] - 6261s 391ms/step - loss: 20.0814 - acc: 0.1049 - val_loss: 85.3745 - val_acc: 0.0180\n",
            "Epoch 2/20\n",
            "15546/16031 [============================>.] - ETA: 2:51 - loss: 19.0855 - acc: 0.1199"
          ],
          "name": "stdout"
        }
      ]
    },
    {
      "cell_type": "code",
      "metadata": {
        "id": "F_cmGJOVgOC0",
        "colab_type": "code",
        "colab": {}
      },
      "source": [
        "#donwload model"
      ],
      "execution_count": 0,
      "outputs": []
    },
    {
      "cell_type": "code",
      "metadata": {
        "id": "SjdxI_Gif28a",
        "colab_type": "code",
        "colab": {}
      },
      "source": [
        "%mkdir generated"
      ],
      "execution_count": 0,
      "outputs": []
    },
    {
      "cell_type": "code",
      "metadata": {
        "id": "Au6-ZkF3fkzI",
        "colab_type": "code",
        "colab": {}
      },
      "source": [
        "from poem_generator.character_generator import generate_poems\n",
        "n = 25\n",
        "generate_poems(1000, n, \"/generated/\"+str(n)+\"-char-poems.zip\", MODELS_DICT+\"/char-model.hdf5\")"
      ],
      "execution_count": 0,
      "outputs": []
    }
  ]
}